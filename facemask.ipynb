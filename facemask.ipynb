{
 "cells": [
  {
   "cell_type": "markdown",
   "id": "f381458a",
   "metadata": {},
   "source": [
    "### 1- Dataset acquisition \n",
    "Dataset link : https://www.kaggle.com/datasets/prithwirajmitra/covid-face-mask-detection-dataset\n",
    "\n",
    "Contains two classes : Without mask and with mask "
   ]
  },
  {
   "cell_type": "code",
   "execution_count": null,
   "id": "9ef6e013",
   "metadata": {},
   "outputs": [],
   "source": []
  },
  {
   "cell_type": "markdown",
   "id": "a663c4b7",
   "metadata": {},
   "source": [
    "### 2- Training - Sequential Model"
   ]
  },
  {
   "cell_type": "code",
   "execution_count": 31,
   "id": "a20da8ba",
   "metadata": {},
   "outputs": [],
   "source": [
    "##importing modules \n",
    "import numpy as np \n",
    "import matplotlib.pyplot as plt \n",
    "import cv2\n",
    "import tensorflow as tf \n",
    "import os\n",
    "import random\n",
    "import shutil\n",
    "from tensorflow.keras.preprocessing.image import ImageDataGenerator\n",
    "from tensorflow.keras.preprocessing import image_dataset_from_directory\n",
    "from keras.models import load_model\n",
    "from keras.preprocessing import image\n",
    "from sklearn.metrics import classification_report, confusion_matrix\n",
    "from sklearn.metrics import ConfusionMatrixDisplay"
   ]
  },
  {
   "cell_type": "code",
   "execution_count": 4,
   "id": "1672238f",
   "metadata": {},
   "outputs": [
    {
     "name": "stdout",
     "output_type": "stream",
     "text": [
      "Found 600 images belonging to 2 classes.\n",
      "Found 306 images belonging to 2 classes.\n"
     ]
    }
   ],
   "source": [
    "train_dir = \"Dataset/Train/\"\n",
    "test_dir = \"Dataset/Test/\"\n",
    "validation_dir = \"Dataset/Validation/\"\n",
    "classes_ = [\"Mask\",\"Non Mask\"]\n",
    "\n",
    "train_datagen = ImageDataGenerator(\n",
    "    featurewise_center=True,\n",
    "    featurewise_std_normalization=True,\n",
    "    rotation_range=20,\n",
    "    width_shift_range=0.2,\n",
    "    height_shift_range=0.2,\n",
    "    horizontal_flip=True)\n",
    "train_generator = train_datagen.flow_from_directory(\n",
    "        train_dir,\n",
    "        target_size=(224, 224),\n",
    "        batch_size=32,\n",
    "        class_mode='binary')\n",
    "\n",
    "validation_datagen = ImageDataGenerator(\n",
    "    featurewise_center=True,\n",
    "    featurewise_std_normalization=True,\n",
    "    rotation_range=20,\n",
    "    width_shift_range=0.2,\n",
    "    height_shift_range=0.2)\n",
    "validation_generator = train_datagen.flow_from_directory(\n",
    "        validation_dir,\n",
    "        target_size=(224, 224),\n",
    "        batch_size=32,\n",
    "        class_mode='binary')"
   ]
  },
  {
   "cell_type": "code",
   "execution_count": 5,
   "id": "3be862ef",
   "metadata": {},
   "outputs": [
    {
     "name": "stdout",
     "output_type": "stream",
     "text": [
      "Model: \"sequential\"\n",
      "_________________________________________________________________\n",
      "Layer (type)                 Output Shape              Param #   \n",
      "=================================================================\n",
      "conv2d (Conv2D)              (None, 222, 222, 16)      448       \n",
      "_________________________________________________________________\n",
      "average_pooling2d (AveragePo (None, 111, 111, 16)      0         \n",
      "_________________________________________________________________\n",
      "conv2d_1 (Conv2D)            (None, 109, 109, 32)      4640      \n",
      "_________________________________________________________________\n",
      "average_pooling2d_1 (Average (None, 54, 54, 32)        0         \n",
      "_________________________________________________________________\n",
      "conv2d_2 (Conv2D)            (None, 52, 52, 64)        18496     \n",
      "_________________________________________________________________\n",
      "average_pooling2d_2 (Average (None, 26, 26, 64)        0         \n",
      "_________________________________________________________________\n",
      "flatten (Flatten)            (None, 43264)             0         \n",
      "_________________________________________________________________\n",
      "dense (Dense)                (None, 128)               5537920   \n",
      "_________________________________________________________________\n",
      "dense_1 (Dense)              (None, 1)                 129       \n",
      "=================================================================\n",
      "Total params: 5,561,633\n",
      "Trainable params: 5,561,633\n",
      "Non-trainable params: 0\n",
      "_________________________________________________________________\n"
     ]
    }
   ],
   "source": [
    "model = tf.keras.Sequential([\n",
    "      tf.keras.layers.Conv2D(16,input_shape=(224,224,3), activation='relu', kernel_size=(3,3)),\n",
    "      tf.keras.layers.AveragePooling2D((2,2)),\n",
    "      tf.keras.layers.Conv2D(32, activation='relu', kernel_size=(3,3)),\n",
    "      tf.keras.layers.AveragePooling2D((2,2)),\n",
    "      tf.keras.layers.Conv2D(64, activation='relu', kernel_size=(3,3)),\n",
    "      tf.keras.layers.AveragePooling2D((2,2)),\n",
    "      tf.keras.layers.Flatten(),\n",
    "      tf.keras.layers.Dense(128, activation='relu'),\n",
    "      tf.keras.layers.Dense(1, activation='sigmoid'),\n",
    "])\n",
    "model.summary()\n"
   ]
  },
  {
   "cell_type": "code",
   "execution_count": 6,
   "id": "3b74fc85",
   "metadata": {},
   "outputs": [
    {
     "name": "stderr",
     "output_type": "stream",
     "text": [
      "C:\\Users\\srich\\AppData\\Local\\Programs\\Python\\Python39\\lib\\site-packages\\keras_preprocessing\\image\\image_data_generator.py:720: UserWarning: This ImageDataGenerator specifies `featurewise_center`, but it hasn't been fit on any training data. Fit it first by calling `.fit(numpy_data)`.\n",
      "  warnings.warn('This ImageDataGenerator specifies '\n",
      "C:\\Users\\srich\\AppData\\Local\\Programs\\Python\\Python39\\lib\\site-packages\\keras_preprocessing\\image\\image_data_generator.py:728: UserWarning: This ImageDataGenerator specifies `featurewise_std_normalization`, but it hasn't been fit on any training data. Fit it first by calling `.fit(numpy_data)`.\n",
      "  warnings.warn('This ImageDataGenerator specifies '\n"
     ]
    },
    {
     "name": "stdout",
     "output_type": "stream",
     "text": [
      "Epoch 1/20\n",
      "19/19 [==============================] - 31s 2s/step - loss: 72.5521 - binary_accuracy: 0.5333 - false_negatives: 122.0000 - val_loss: 0.8154 - val_binary_accuracy: 0.5196 - val_false_negatives: 145.0000\n",
      "Epoch 2/20\n",
      "19/19 [==============================] - 27s 1s/step - loss: 0.5959 - binary_accuracy: 0.6900 - false_negatives: 139.0000 - val_loss: 0.4626 - val_binary_accuracy: 0.8268 - val_false_negatives: 22.0000\n",
      "Epoch 3/20\n",
      "19/19 [==============================] - 28s 1s/step - loss: 0.4224 - binary_accuracy: 0.8433 - false_negatives: 50.0000 - val_loss: 0.4753 - val_binary_accuracy: 0.7647 - val_false_negatives: 27.0000\n",
      "Epoch 4/20\n",
      "19/19 [==============================] - 27s 1s/step - loss: 0.4433 - binary_accuracy: 0.8283 - false_negatives: 49.0000 - val_loss: 0.4568 - val_binary_accuracy: 0.7843 - val_false_negatives: 16.0000\n",
      "Epoch 5/20\n",
      "19/19 [==============================] - 27s 1s/step - loss: 0.4273 - binary_accuracy: 0.8150 - false_negatives: 63.0000 - val_loss: 0.4076 - val_binary_accuracy: 0.8399 - val_false_negatives: 18.0000\n",
      "Epoch 6/20\n",
      "19/19 [==============================] - 27s 1s/step - loss: 0.3533 - binary_accuracy: 0.8600 - false_negatives: 45.0000 - val_loss: 0.4388 - val_binary_accuracy: 0.8203 - val_false_negatives: 26.0000\n",
      "Epoch 7/20\n",
      "19/19 [==============================] - 28s 1s/step - loss: 0.3382 - binary_accuracy: 0.8667 - false_negatives: 40.0000 - val_loss: 0.5308 - val_binary_accuracy: 0.8627 - val_false_negatives: 15.0000\n",
      "Epoch 8/20\n",
      "19/19 [==============================] - 27s 1s/step - loss: 0.3493 - binary_accuracy: 0.8750 - false_negatives: 52.0000 - val_loss: 0.3553 - val_binary_accuracy: 0.8464 - val_false_negatives: 18.0000\n",
      "Epoch 9/20\n",
      "19/19 [==============================] - 27s 1s/step - loss: 0.3300 - binary_accuracy: 0.8733 - false_negatives: 43.0000 - val_loss: 0.3390 - val_binary_accuracy: 0.8660 - val_false_negatives: 20.0000\n",
      "Epoch 10/20\n",
      "19/19 [==============================] - 28s 1s/step - loss: 0.3111 - binary_accuracy: 0.8783 - false_negatives: 42.0000 - val_loss: 0.3991 - val_binary_accuracy: 0.8529 - val_false_negatives: 9.0000\n",
      "Epoch 11/20\n",
      "19/19 [==============================] - 29s 2s/step - loss: 0.3093 - binary_accuracy: 0.8683 - false_negatives: 43.0000 - val_loss: 0.3538 - val_binary_accuracy: 0.8725 - val_false_negatives: 17.0000\n",
      "Epoch 12/20\n",
      "19/19 [==============================] - 30s 2s/step - loss: 0.3002 - binary_accuracy: 0.8783 - false_negatives: 41.0000 - val_loss: 0.3453 - val_binary_accuracy: 0.8660 - val_false_negatives: 24.0000\n",
      "Epoch 13/20\n",
      "19/19 [==============================] - 30s 2s/step - loss: 0.2644 - binary_accuracy: 0.9033 - false_negatives: 39.0000 - val_loss: 0.3871 - val_binary_accuracy: 0.8562 - val_false_negatives: 27.0000\n",
      "Epoch 14/20\n",
      "19/19 [==============================] - 32s 2s/step - loss: 0.2659 - binary_accuracy: 0.8883 - false_negatives: 42.0000 - val_loss: 0.4127 - val_binary_accuracy: 0.8529 - val_false_negatives: 8.0000\n",
      "Epoch 15/20\n",
      "19/19 [==============================] - 31s 2s/step - loss: 0.3200 - binary_accuracy: 0.8700 - false_negatives: 43.0000 - val_loss: 0.3906 - val_binary_accuracy: 0.8562 - val_false_negatives: 13.0000\n",
      "Epoch 16/20\n",
      "19/19 [==============================] - 30s 2s/step - loss: 0.2998 - binary_accuracy: 0.8933 - false_negatives: 40.0000 - val_loss: 0.4692 - val_binary_accuracy: 0.8301 - val_false_negatives: 25.0000\n",
      "Epoch 17/20\n",
      "19/19 [==============================] - 29s 2s/step - loss: 0.2841 - binary_accuracy: 0.8983 - false_negatives: 36.0000 - val_loss: 0.4514 - val_binary_accuracy: 0.8366 - val_false_negatives: 30.0000\n",
      "Epoch 18/20\n",
      "19/19 [==============================] - 30s 2s/step - loss: 0.2948 - binary_accuracy: 0.8783 - false_negatives: 49.0000 - val_loss: 0.3992 - val_binary_accuracy: 0.8497 - val_false_negatives: 32.0000\n",
      "Epoch 19/20\n",
      "19/19 [==============================] - 29s 2s/step - loss: 0.3117 - binary_accuracy: 0.8900 - false_negatives: 43.0000 - val_loss: 0.4691 - val_binary_accuracy: 0.7908 - val_false_negatives: 40.0000\n"
     ]
    }
   ],
   "source": [
    "model.compile(optimizer=tf.keras.optimizers.Adam(learning_rate=1e-3),\n",
    "              loss=tf.keras.losses.BinaryCrossentropy(),\n",
    "              metrics=[tf.keras.metrics.BinaryAccuracy(),\n",
    "                       tf.keras.metrics.FalseNegatives()])\n",
    "callback = tf.keras.callbacks.EarlyStopping(monitor='loss', patience=6)\n",
    "history = model.fit(\n",
    "    train_generator,\n",
    "    batch_size=64,\n",
    "    validation_data=validation_generator,\n",
    "    epochs=20,\n",
    "    callbacks=[callback])"
   ]
  },
  {
   "cell_type": "code",
   "execution_count": 7,
   "id": "e767e1df",
   "metadata": {},
   "outputs": [
    {
     "name": "stdout",
     "output_type": "stream",
     "text": [
      "dict_keys(['loss', 'binary_accuracy', 'false_negatives', 'val_loss', 'val_binary_accuracy', 'val_false_negatives'])\n"
     ]
    },
    {
     "data": {
      "image/png": "[encoded data removed]",
      "text/plain": [
       "<Figure size 432x288 with 1 Axes>"
      ]
     },
     "metadata": {
      "needs_background": "light"
     },
     "output_type": "display_data"
    },
    {
     "data": {
      "image/png": "[encoded data removed]",
      "text/plain": [
       "<Figure size 432x288 with 1 Axes>"
      ]
     },
     "metadata": {
      "needs_background": "light"
     },
     "output_type": "display_data"
    }
   ],
   "source": [
    "print(history.history.keys())\n",
    "# summarize history for accuracy\n",
    "\n",
    "plt.plot(history.history['binary_accuracy'])\n",
    "plt.plot(history.history['val_binary_accuracy'])\n",
    "plt.title('model accuracy')\n",
    "plt.ylabel('accuracy')\n",
    "plt.xlabel('epoch')\n",
    "plt.legend(['train', 'test'], loc='upper left')\n",
    "plt.show()\n",
    "# summarize history for loss\n",
    "plt.plot(history.history['loss'])\n",
    "plt.plot(history.history['val_loss'])\n",
    "plt.title('model loss')\n",
    "plt.ylabel('loss')\n",
    "plt.xlabel('epoch')\n",
    "plt.legend(['train', 'test'], loc='upper left')\n",
    "\n",
    "plt.show()"
   ]
  },
  {
   "cell_type": "code",
   "execution_count": 9,
   "id": "2cb019a4",
   "metadata": {},
   "outputs": [
    {
     "name": "stdout",
     "output_type": "stream",
     "text": [
      "Confusion Matrix\n"
     ]
    },
    {
     "data": {
      "image/png": "[encoded data removed]",
      "text/plain": [
       "<Figure size 432x288 with 2 Axes>"
      ]
     },
     "metadata": {
      "needs_background": "light"
     },
     "output_type": "display_data"
    }
   ],
   "source": [
    "img_width=224\n",
    "img_height=224\n",
    "images = []\n",
    "for folder in os.listdir(validation_dir):\n",
    "    folder = os.path.join(validation_dir,folder)\n",
    "    for img in os.listdir(folder):\n",
    "        img = os.path.join(folder,img)\n",
    "        img = image.load_img(img, target_size=(img_width, img_height))\n",
    "        img = image.img_to_array(img)\n",
    "        img = np.expand_dims(img, axis=0)\n",
    "        images.append(img)\n",
    "images = np.vstack(images)\n",
    "classes = model.predict(images, batch_size=10)\n",
    "y_pred=[]\n",
    "for i,v in enumerate(classes):\n",
    "    if (v>0.5):\n",
    "        y_pred.append(1)\n",
    "    else:\n",
    "        y_pred.append(0)\n",
    "print('Confusion Matrix')\n",
    "cm = confusion_matrix(validation_generator.classes, y_pred)\n",
    "disp = ConfusionMatrixDisplay(confusion_matrix=cm, display_labels=['Non Mask','Mask'])\n",
    "disp.plot(cmap=plt.cm.Blues)\n",
    "plt.show()\n"
   ]
  },
  {
   "cell_type": "code",
   "execution_count": 10,
   "id": "77102b39",
   "metadata": {},
   "outputs": [
    {
     "name": "stdout",
     "output_type": "stream",
     "text": [
      "Classification Report\n",
      "              precision    recall  f1-score   support\n",
      "\n",
      "    Non Mask       0.82      0.91      0.86       153\n",
      "        Mask       0.90      0.80      0.85       153\n",
      "\n",
      "    accuracy                           0.86       306\n",
      "   macro avg       0.86      0.86      0.86       306\n",
      "weighted avg       0.86      0.86      0.86       306\n",
      "\n"
     ]
    }
   ],
   "source": [
    "\n",
    "print('Classification Report')\n",
    "target_names = ['Non Mask','Mask']\n",
    "print(classification_report(validation_generator.classes, y_pred, target_names=target_names))"
   ]
  },
  {
   "cell_type": "code",
   "execution_count": 59,
   "id": "82d67e72",
   "metadata": {},
   "outputs": [],
   "source": [
    "model_json = model.to_json()\n",
    "with open(\"model.json\", \"w\") as json_file:\n",
    "    json_file.write(model_json)\n",
    "model.save('fmdseq.h5')"
   ]
  },
  {
   "cell_type": "code",
   "execution_count": null,
   "id": "235ca0ec",
   "metadata": {},
   "outputs": [],
   "source": []
  },
  {
   "cell_type": "markdown",
   "id": "93075ae2",
   "metadata": {},
   "source": [
    "### Training - Mobilenetv2 Model"
   ]
  },
  {
   "cell_type": "code",
   "execution_count": 2,
   "id": "dbb28c27",
   "metadata": {},
   "outputs": [],
   "source": [
    "import os\n",
    "import cv2\n",
    "import numpy as np\n",
    "import random\n",
    "import keras\n",
    "\n",
    "from imutils import paths\n",
    "import matplotlib.pyplot as plt\n",
    "from tensorflow.keras.applications.mobilenet_v2 import preprocess_input\n",
    "from tensorflow.keras.preprocessing.image import img_to_array\n",
    "from keras.preprocessing.image import ImageDataGenerator, load_img\n",
    "from tensorflow.keras.utils import to_categorical\n",
    "from sklearn.preprocessing import LabelBinarizer\n",
    "\n",
    "from tensorflow.keras.applications import MobileNetV2\n",
    "from tensorflow.keras.layers import Input\n",
    "from tensorflow.keras.layers import AveragePooling2D\n",
    "from tensorflow.keras.layers import Dropout,BatchNormalization,MaxPooling2D\n",
    "from tensorflow.keras.layers import Flatten\n",
    "from tensorflow.keras.layers import Dense\n",
    "from tensorflow.keras.layers import Input\n",
    "from tensorflow.keras import Sequential\n",
    "from tensorflow.keras.models import Model\n",
    "from tensorflow.keras.optimizers import Adam\n",
    "\n",
    "from keras.callbacks import ModelCheckpoint\n",
    "from keras.callbacks import EarlyStopping, ReduceLROnPlateau\n",
    "from sklearn.metrics import classification_report"
   ]
  },
  {
   "cell_type": "code",
   "execution_count": 3,
   "id": "5a84618b",
   "metadata": {},
   "outputs": [],
   "source": [
    "img_width=224\n",
    "img_height=224\n",
    "\n",
    "# initialize the initial learning rate, number of epochs to train for, and batch size\n",
    "INIT_LR = 1e-4\n",
    "EPOCHS = 20\n",
    "BS = 32\n",
    "train_data_dir=\"Dataset/Train\"\n",
    "test_data_dir=\"Dataset/Validation\"\n",
    "all_train_imagePaths = list(paths.list_images(train_data_dir))\n",
    "all_test_imagePaths = list(paths.list_images(test_data_dir))\n",
    "train_data = []\n",
    "train_labels = []\n",
    "test_data = []\n",
    "test_labels = []\n",
    "\n",
    "for imagePath in all_train_imagePaths:\n",
    "# extract the class label from the filename\n",
    "    label = imagePath.split(os.path.sep)[-2]\n",
    "\n",
    "\t# load the input image (224x224) and preprocess it\n",
    "    image = load_img(imagePath, target_size=(224, 224))\n",
    "    image = img_to_array(image)\n",
    "    image = preprocess_input(image)\n",
    "\n",
    "\t# update the data and labels lists, respectively\n",
    "    train_data.append(image)\n",
    "    train_labels.append(label)\n",
    "for imagePath in all_test_imagePaths:\n",
    "# extract the class label from the filename\n",
    "    label = imagePath.split(os.path.sep)[-2]\n",
    "\n",
    "\t# load the input image (224x224) and preprocess it\n",
    "    image = load_img(imagePath, target_size=(224, 224))\n",
    "\n",
    "    image = img_to_array(image)\n",
    "    image = preprocess_input(image)\n",
    "\n",
    "\t# update the data and labels lists, respectively\n",
    "    test_data.append(image)\n",
    "    test_labels.append(label)"
   ]
  },
  {
   "cell_type": "code",
   "execution_count": 4,
   "id": "42343b42",
   "metadata": {},
   "outputs": [],
   "source": [
    "def convert_data_labels(data,labels):\n",
    "  #convert the data and labels to NumPy arrays\n",
    "    data = np.array(data, dtype=\"float32\")\n",
    "    labels = np.array(labels)\n",
    "\n",
    "  # perform one-hot encoding on the labels\n",
    "    lb = LabelBinarizer()\n",
    "    labels = lb.fit_transform(labels)\n",
    "    labels = to_categorical(labels)\n",
    "    return  data,labels"
   ]
  },
  {
   "cell_type": "code",
   "execution_count": 5,
   "id": "b91cacb9",
   "metadata": {},
   "outputs": [
    {
     "name": "stdout",
     "output_type": "stream",
     "text": [
      "Size of train dataset :  600\n",
      "Size of test dataset :  306\n"
     ]
    }
   ],
   "source": [
    "train_data,train_labels = convert_data_labels(train_data,train_labels)\n",
    "test_data,test_labels = convert_data_labels(test_data,test_labels)\n",
    "print(\"Size of train dataset : \",train_data.shape[0])\n",
    "\n",
    "print(\"Size of test dataset : \",test_data.shape[0])"
   ]
  },
  {
   "cell_type": "code",
   "execution_count": 6,
   "id": "9e80a779",
   "metadata": {},
   "outputs": [],
   "source": [
    "train_datagen = ImageDataGenerator(\n",
    "                  rotation_range=20,\n",
    "                  zoom_range=0.15,\n",
    "                  width_shift_range=0.2,\n",
    "                  height_shift_range=0.2,\n",
    "                  shear_range=0.15,\n",
    "                  horizontal_flip=True,\n",
    "                  fill_mode=\"nearest\")\n",
    "\n",
    "train_generator = train_datagen.flow(train_data, train_labels, batch_size=BS)"
   ]
  },
  {
   "cell_type": "code",
   "execution_count": 7,
   "id": "4658f1fd",
   "metadata": {},
   "outputs": [
    {
     "name": "stdout",
     "output_type": "stream",
     "text": [
      "WARNING:tensorflow:`input_shape` is undefined or non-square, or `rows` is not in [96, 128, 160, 192, 224]. Weights for input shape (224, 224) will be loaded as the default.\n"
     ]
    }
   ],
   "source": [
    "mobilenet = MobileNetV2(weights=\"imagenet\", include_top=False, input_tensor=Input(shape=(224, 224, 3)))"
   ]
  },
  {
   "cell_type": "code",
   "execution_count": 8,
   "id": "77ccff7a",
   "metadata": {},
   "outputs": [],
   "source": [
    "headModel = mobilenet.output\n",
    "headModel = AveragePooling2D(pool_size=(7, 7))(headModel)\n",
    "headModel = Flatten(name=\"flatten\")(headModel)\n",
    "headModel = Dense(128, activation=\"relu\")(headModel)\n",
    "headModel = Dropout(0.5)(headModel)\n",
    "headModel = Dense(2, activation=\"softmax\")(headModel)"
   ]
  },
  {
   "cell_type": "code",
   "execution_count": 36,
   "id": "5d812474",
   "metadata": {},
   "outputs": [
    {
     "name": "stdout",
     "output_type": "stream",
     "text": [
      "[INFO] compiling model...\n",
      "Done !!\n",
      "Model: \"model_1\"\n",
      "__________________________________________________________________________________________________\n",
      "Layer (type)                    Output Shape         Param #     Connected to                     \n",
      "==================================================================================================\n",
      "input_1 (InputLayer)            [(None, 224, 224, 3) 0                                            \n",
      "__________________________________________________________________________________________________\n",
      "Conv1 (Conv2D)                  (None, 112, 112, 32) 864         input_1[0][0]                    \n",
      "__________________________________________________________________________________________________\n",
      "bn_Conv1 (BatchNormalization)   (None, 112, 112, 32) 128         Conv1[0][0]                      \n",
      "__________________________________________________________________________________________________\n",
      "Conv1_relu (ReLU)               (None, 112, 112, 32) 0           bn_Conv1[0][0]                   \n",
      "__________________________________________________________________________________________________\n",
      "expanded_conv_depthwise (Depthw (None, 112, 112, 32) 288         Conv1_relu[0][0]                 \n",
      "__________________________________________________________________________________________________\n",
      "expanded_conv_depthwise_BN (Bat (None, 112, 112, 32) 128         expanded_conv_depthwise[0][0]    \n",
      "__________________________________________________________________________________________________\n",
      "expanded_conv_depthwise_relu (R (None, 112, 112, 32) 0           expanded_conv_depthwise_BN[0][0] \n",
      "__________________________________________________________________________________________________\n",
      "expanded_conv_project (Conv2D)  (None, 112, 112, 16) 512         expanded_conv_depthwise_relu[0][0\n",
      "__________________________________________________________________________________________________\n",
      "expanded_conv_project_BN (Batch (None, 112, 112, 16) 64          expanded_conv_project[0][0]      \n",
      "__________________________________________________________________________________________________\n",
      "block_1_expand (Conv2D)         (None, 112, 112, 96) 1536        expanded_conv_project_BN[0][0]   \n",
      "__________________________________________________________________________________________________\n",
      "block_1_expand_BN (BatchNormali (None, 112, 112, 96) 384         block_1_expand[0][0]             \n",
      "__________________________________________________________________________________________________\n",
      "block_1_expand_relu (ReLU)      (None, 112, 112, 96) 0           block_1_expand_BN[0][0]          \n",
      "__________________________________________________________________________________________________\n",
      "block_1_pad (ZeroPadding2D)     (None, 113, 113, 96) 0           block_1_expand_relu[0][0]        \n",
      "__________________________________________________________________________________________________\n",
      "block_1_depthwise (DepthwiseCon (None, 56, 56, 96)   864         block_1_pad[0][0]                \n",
      "__________________________________________________________________________________________________\n",
      "block_1_depthwise_BN (BatchNorm (None, 56, 56, 96)   384         block_1_depthwise[0][0]          \n",
      "__________________________________________________________________________________________________\n",
      "block_1_depthwise_relu (ReLU)   (None, 56, 56, 96)   0           block_1_depthwise_BN[0][0]       \n",
      "__________________________________________________________________________________________________\n",
      "block_1_project (Conv2D)        (None, 56, 56, 24)   2304        block_1_depthwise_relu[0][0]     \n",
      "__________________________________________________________________________________________________\n",
      "block_1_project_BN (BatchNormal (None, 56, 56, 24)   96          block_1_project[0][0]            \n",
      "__________________________________________________________________________________________________\n",
      "block_2_expand (Conv2D)         (None, 56, 56, 144)  3456        block_1_project_BN[0][0]         \n",
      "__________________________________________________________________________________________________\n",
      "block_2_expand_BN (BatchNormali (None, 56, 56, 144)  576         block_2_expand[0][0]             \n",
      "__________________________________________________________________________________________________\n",
      "block_2_expand_relu (ReLU)      (None, 56, 56, 144)  0           block_2_expand_BN[0][0]          \n",
      "__________________________________________________________________________________________________\n",
      "block_2_depthwise (DepthwiseCon (None, 56, 56, 144)  1296        block_2_expand_relu[0][0]        \n",
      "__________________________________________________________________________________________________\n",
      "block_2_depthwise_BN (BatchNorm (None, 56, 56, 144)  576         block_2_depthwise[0][0]          \n",
      "__________________________________________________________________________________________________\n",
      "block_2_depthwise_relu (ReLU)   (None, 56, 56, 144)  0           block_2_depthwise_BN[0][0]       \n",
      "__________________________________________________________________________________________________\n",
      "block_2_project (Conv2D)        (None, 56, 56, 24)   3456        block_2_depthwise_relu[0][0]     \n",
      "__________________________________________________________________________________________________\n",
      "block_2_project_BN (BatchNormal (None, 56, 56, 24)   96          block_2_project[0][0]            \n",
      "__________________________________________________________________________________________________\n",
      "block_2_add (Add)               (None, 56, 56, 24)   0           block_1_project_BN[0][0]         \n",
      "                                                                 block_2_project_BN[0][0]         \n",
      "__________________________________________________________________________________________________\n",
      "block_3_expand (Conv2D)         (None, 56, 56, 144)  3456        block_2_add[0][0]                \n",
      "__________________________________________________________________________________________________\n",
      "block_3_expand_BN (BatchNormali (None, 56, 56, 144)  576         block_3_expand[0][0]             \n",
      "__________________________________________________________________________________________________\n",
      "block_3_expand_relu (ReLU)      (None, 56, 56, 144)  0           block_3_expand_BN[0][0]          \n",
      "__________________________________________________________________________________________________\n",
      "block_3_pad (ZeroPadding2D)     (None, 57, 57, 144)  0           block_3_expand_relu[0][0]        \n",
      "__________________________________________________________________________________________________\n",
      "block_3_depthwise (DepthwiseCon (None, 28, 28, 144)  1296        block_3_pad[0][0]                \n",
      "__________________________________________________________________________________________________\n",
      "block_3_depthwise_BN (BatchNorm (None, 28, 28, 144)  576         block_3_depthwise[0][0]          \n",
      "__________________________________________________________________________________________________\n",
      "block_3_depthwise_relu (ReLU)   (None, 28, 28, 144)  0           block_3_depthwise_BN[0][0]       \n",
      "__________________________________________________________________________________________________\n",
      "block_3_project (Conv2D)        (None, 28, 28, 32)   4608        block_3_depthwise_relu[0][0]     \n",
      "__________________________________________________________________________________________________\n",
      "block_3_project_BN (BatchNormal (None, 28, 28, 32)   128         block_3_project[0][0]            \n",
      "__________________________________________________________________________________________________\n",
      "block_4_expand (Conv2D)         (None, 28, 28, 192)  6144        block_3_project_BN[0][0]         \n",
      "__________________________________________________________________________________________________\n",
      "block_4_expand_BN (BatchNormali (None, 28, 28, 192)  768         block_4_expand[0][0]             \n",
      "__________________________________________________________________________________________________\n",
      "block_4_expand_relu (ReLU)      (None, 28, 28, 192)  0           block_4_expand_BN[0][0]          \n",
      "__________________________________________________________________________________________________\n",
      "block_4_depthwise (DepthwiseCon (None, 28, 28, 192)  1728        block_4_expand_relu[0][0]        \n",
      "__________________________________________________________________________________________________\n",
      "block_4_depthwise_BN (BatchNorm (None, 28, 28, 192)  768         block_4_depthwise[0][0]          \n",
      "__________________________________________________________________________________________________\n",
      "block_4_depthwise_relu (ReLU)   (None, 28, 28, 192)  0           block_4_depthwise_BN[0][0]       \n",
      "__________________________________________________________________________________________________\n",
      "block_4_project (Conv2D)        (None, 28, 28, 32)   6144        block_4_depthwise_relu[0][0]     \n",
      "__________________________________________________________________________________________________\n",
      "block_4_project_BN (BatchNormal (None, 28, 28, 32)   128         block_4_project[0][0]            \n",
      "__________________________________________________________________________________________________\n",
      "block_4_add (Add)               (None, 28, 28, 32)   0           block_3_project_BN[0][0]         \n",
      "                                                                 block_4_project_BN[0][0]         \n",
      "__________________________________________________________________________________________________\n",
      "block_5_expand (Conv2D)         (None, 28, 28, 192)  6144        block_4_add[0][0]                \n",
      "__________________________________________________________________________________________________\n",
      "block_5_expand_BN (BatchNormali (None, 28, 28, 192)  768         block_5_expand[0][0]             \n",
      "__________________________________________________________________________________________________\n",
      "block_5_expand_relu (ReLU)      (None, 28, 28, 192)  0           block_5_expand_BN[0][0]          \n",
      "__________________________________________________________________________________________________\n",
      "block_5_depthwise (DepthwiseCon (None, 28, 28, 192)  1728        block_5_expand_relu[0][0]        \n",
      "__________________________________________________________________________________________________\n",
      "block_5_depthwise_BN (BatchNorm (None, 28, 28, 192)  768         block_5_depthwise[0][0]          \n",
      "__________________________________________________________________________________________________\n",
      "block_5_depthwise_relu (ReLU)   (None, 28, 28, 192)  0           block_5_depthwise_BN[0][0]       \n",
      "__________________________________________________________________________________________________\n",
      "block_5_project (Conv2D)        (None, 28, 28, 32)   6144        block_5_depthwise_relu[0][0]     \n",
      "__________________________________________________________________________________________________\n",
      "block_5_project_BN (BatchNormal (None, 28, 28, 32)   128         block_5_project[0][0]            \n",
      "__________________________________________________________________________________________________\n",
      "block_5_add (Add)               (None, 28, 28, 32)   0           block_4_add[0][0]                \n",
      "                                                                 block_5_project_BN[0][0]         \n",
      "__________________________________________________________________________________________________\n",
      "block_6_expand (Conv2D)         (None, 28, 28, 192)  6144        block_5_add[0][0]                \n",
      "__________________________________________________________________________________________________\n",
      "block_6_expand_BN (BatchNormali (None, 28, 28, 192)  768         block_6_expand[0][0]             \n",
      "__________________________________________________________________________________________________\n",
      "block_6_expand_relu (ReLU)      (None, 28, 28, 192)  0           block_6_expand_BN[0][0]          \n",
      "__________________________________________________________________________________________________\n",
      "block_6_pad (ZeroPadding2D)     (None, 29, 29, 192)  0           block_6_expand_relu[0][0]        \n",
      "__________________________________________________________________________________________________\n",
      "block_6_depthwise (DepthwiseCon (None, 14, 14, 192)  1728        block_6_pad[0][0]                \n",
      "__________________________________________________________________________________________________\n",
      "block_6_depthwise_BN (BatchNorm (None, 14, 14, 192)  768         block_6_depthwise[0][0]          \n",
      "__________________________________________________________________________________________________\n",
      "block_6_depthwise_relu (ReLU)   (None, 14, 14, 192)  0           block_6_depthwise_BN[0][0]       \n",
      "__________________________________________________________________________________________________\n",
      "block_6_project (Conv2D)        (None, 14, 14, 64)   12288       block_6_depthwise_relu[0][0]     \n",
      "__________________________________________________________________________________________________\n",
      "block_6_project_BN (BatchNormal (None, 14, 14, 64)   256         block_6_project[0][0]            \n",
      "__________________________________________________________________________________________________\n",
      "block_7_expand (Conv2D)         (None, 14, 14, 384)  24576       block_6_project_BN[0][0]         \n",
      "__________________________________________________________________________________________________\n",
      "block_7_expand_BN (BatchNormali (None, 14, 14, 384)  1536        block_7_expand[0][0]             \n",
      "__________________________________________________________________________________________________\n",
      "block_7_expand_relu (ReLU)      (None, 14, 14, 384)  0           block_7_expand_BN[0][0]          \n",
      "__________________________________________________________________________________________________\n",
      "block_7_depthwise (DepthwiseCon (None, 14, 14, 384)  3456        block_7_expand_relu[0][0]        \n",
      "__________________________________________________________________________________________________\n",
      "block_7_depthwise_BN (BatchNorm (None, 14, 14, 384)  1536        block_7_depthwise[0][0]          \n",
      "__________________________________________________________________________________________________\n",
      "block_7_depthwise_relu (ReLU)   (None, 14, 14, 384)  0           block_7_depthwise_BN[0][0]       \n",
      "__________________________________________________________________________________________________\n",
      "block_7_project (Conv2D)        (None, 14, 14, 64)   24576       block_7_depthwise_relu[0][0]     \n",
      "__________________________________________________________________________________________________\n",
      "block_7_project_BN (BatchNormal (None, 14, 14, 64)   256         block_7_project[0][0]            \n",
      "__________________________________________________________________________________________________\n",
      "block_7_add (Add)               (None, 14, 14, 64)   0           block_6_project_BN[0][0]         \n",
      "                                                                 block_7_project_BN[0][0]         \n",
      "__________________________________________________________________________________________________\n",
      "block_8_expand (Conv2D)         (None, 14, 14, 384)  24576       block_7_add[0][0]                \n",
      "__________________________________________________________________________________________________\n",
      "block_8_expand_BN (BatchNormali (None, 14, 14, 384)  1536        block_8_expand[0][0]             \n",
      "__________________________________________________________________________________________________\n",
      "block_8_expand_relu (ReLU)      (None, 14, 14, 384)  0           block_8_expand_BN[0][0]          \n",
      "__________________________________________________________________________________________________\n",
      "block_8_depthwise (DepthwiseCon (None, 14, 14, 384)  3456        block_8_expand_relu[0][0]        \n",
      "__________________________________________________________________________________________________\n",
      "block_8_depthwise_BN (BatchNorm (None, 14, 14, 384)  1536        block_8_depthwise[0][0]          \n",
      "__________________________________________________________________________________________________\n",
      "block_8_depthwise_relu (ReLU)   (None, 14, 14, 384)  0           block_8_depthwise_BN[0][0]       \n",
      "__________________________________________________________________________________________________\n",
      "block_8_project (Conv2D)        (None, 14, 14, 64)   24576       block_8_depthwise_relu[0][0]     \n",
      "__________________________________________________________________________________________________\n",
      "block_8_project_BN (BatchNormal (None, 14, 14, 64)   256         block_8_project[0][0]            \n",
      "__________________________________________________________________________________________________\n",
      "block_8_add (Add)               (None, 14, 14, 64)   0           block_7_add[0][0]                \n",
      "                                                                 block_8_project_BN[0][0]         \n",
      "__________________________________________________________________________________________________\n",
      "block_9_expand (Conv2D)         (None, 14, 14, 384)  24576       block_8_add[0][0]                \n",
      "__________________________________________________________________________________________________\n",
      "block_9_expand_BN (BatchNormali (None, 14, 14, 384)  1536        block_9_expand[0][0]             \n",
      "__________________________________________________________________________________________________\n",
      "block_9_expand_relu (ReLU)      (None, 14, 14, 384)  0           block_9_expand_BN[0][0]          \n",
      "__________________________________________________________________________________________________\n",
      "block_9_depthwise (DepthwiseCon (None, 14, 14, 384)  3456        block_9_expand_relu[0][0]        \n",
      "__________________________________________________________________________________________________\n",
      "block_9_depthwise_BN (BatchNorm (None, 14, 14, 384)  1536        block_9_depthwise[0][0]          \n",
      "__________________________________________________________________________________________________\n",
      "block_9_depthwise_relu (ReLU)   (None, 14, 14, 384)  0           block_9_depthwise_BN[0][0]       \n",
      "__________________________________________________________________________________________________\n",
      "block_9_project (Conv2D)        (None, 14, 14, 64)   24576       block_9_depthwise_relu[0][0]     \n",
      "__________________________________________________________________________________________________\n",
      "block_9_project_BN (BatchNormal (None, 14, 14, 64)   256         block_9_project[0][0]            \n",
      "__________________________________________________________________________________________________\n",
      "block_9_add (Add)               (None, 14, 14, 64)   0           block_8_add[0][0]                \n",
      "                                                                 block_9_project_BN[0][0]         \n",
      "__________________________________________________________________________________________________\n",
      "block_10_expand (Conv2D)        (None, 14, 14, 384)  24576       block_9_add[0][0]                \n",
      "__________________________________________________________________________________________________\n",
      "block_10_expand_BN (BatchNormal (None, 14, 14, 384)  1536        block_10_expand[0][0]            \n",
      "__________________________________________________________________________________________________\n",
      "block_10_expand_relu (ReLU)     (None, 14, 14, 384)  0           block_10_expand_BN[0][0]         \n",
      "__________________________________________________________________________________________________\n",
      "block_10_depthwise (DepthwiseCo (None, 14, 14, 384)  3456        block_10_expand_relu[0][0]       \n",
      "__________________________________________________________________________________________________\n",
      "block_10_depthwise_BN (BatchNor (None, 14, 14, 384)  1536        block_10_depthwise[0][0]         \n",
      "__________________________________________________________________________________________________\n",
      "block_10_depthwise_relu (ReLU)  (None, 14, 14, 384)  0           block_10_depthwise_BN[0][0]      \n",
      "__________________________________________________________________________________________________\n",
      "block_10_project (Conv2D)       (None, 14, 14, 96)   36864       block_10_depthwise_relu[0][0]    \n",
      "__________________________________________________________________________________________________\n",
      "block_10_project_BN (BatchNorma (None, 14, 14, 96)   384         block_10_project[0][0]           \n",
      "__________________________________________________________________________________________________\n",
      "block_11_expand (Conv2D)        (None, 14, 14, 576)  55296       block_10_project_BN[0][0]        \n",
      "__________________________________________________________________________________________________\n",
      "block_11_expand_BN (BatchNormal (None, 14, 14, 576)  2304        block_11_expand[0][0]            \n",
      "__________________________________________________________________________________________________\n",
      "block_11_expand_relu (ReLU)     (None, 14, 14, 576)  0           block_11_expand_BN[0][0]         \n",
      "__________________________________________________________________________________________________\n",
      "block_11_depthwise (DepthwiseCo (None, 14, 14, 576)  5184        block_11_expand_relu[0][0]       \n",
      "__________________________________________________________________________________________________\n",
      "block_11_depthwise_BN (BatchNor (None, 14, 14, 576)  2304        block_11_depthwise[0][0]         \n",
      "__________________________________________________________________________________________________\n",
      "block_11_depthwise_relu (ReLU)  (None, 14, 14, 576)  0           block_11_depthwise_BN[0][0]      \n",
      "__________________________________________________________________________________________________\n",
      "block_11_project (Conv2D)       (None, 14, 14, 96)   55296       block_11_depthwise_relu[0][0]    \n",
      "__________________________________________________________________________________________________\n",
      "block_11_project_BN (BatchNorma (None, 14, 14, 96)   384         block_11_project[0][0]           \n",
      "__________________________________________________________________________________________________\n",
      "block_11_add (Add)              (None, 14, 14, 96)   0           block_10_project_BN[0][0]        \n",
      "                                                                 block_11_project_BN[0][0]        \n",
      "__________________________________________________________________________________________________\n",
      "block_12_expand (Conv2D)        (None, 14, 14, 576)  55296       block_11_add[0][0]               \n",
      "__________________________________________________________________________________________________\n",
      "block_12_expand_BN (BatchNormal (None, 14, 14, 576)  2304        block_12_expand[0][0]            \n",
      "__________________________________________________________________________________________________\n",
      "block_12_expand_relu (ReLU)     (None, 14, 14, 576)  0           block_12_expand_BN[0][0]         \n",
      "__________________________________________________________________________________________________\n",
      "block_12_depthwise (DepthwiseCo (None, 14, 14, 576)  5184        block_12_expand_relu[0][0]       \n",
      "__________________________________________________________________________________________________\n",
      "block_12_depthwise_BN (BatchNor (None, 14, 14, 576)  2304        block_12_depthwise[0][0]         \n",
      "__________________________________________________________________________________________________\n",
      "block_12_depthwise_relu (ReLU)  (None, 14, 14, 576)  0           block_12_depthwise_BN[0][0]      \n",
      "__________________________________________________________________________________________________\n",
      "block_12_project (Conv2D)       (None, 14, 14, 96)   55296       block_12_depthwise_relu[0][0]    \n",
      "__________________________________________________________________________________________________\n",
      "block_12_project_BN (BatchNorma (None, 14, 14, 96)   384         block_12_project[0][0]           \n",
      "__________________________________________________________________________________________________\n",
      "block_12_add (Add)              (None, 14, 14, 96)   0           block_11_add[0][0]               \n",
      "                                                                 block_12_project_BN[0][0]        \n",
      "__________________________________________________________________________________________________\n",
      "block_13_expand (Conv2D)        (None, 14, 14, 576)  55296       block_12_add[0][0]               \n",
      "__________________________________________________________________________________________________\n",
      "block_13_expand_BN (BatchNormal (None, 14, 14, 576)  2304        block_13_expand[0][0]            \n",
      "__________________________________________________________________________________________________\n",
      "block_13_expand_relu (ReLU)     (None, 14, 14, 576)  0           block_13_expand_BN[0][0]         \n",
      "__________________________________________________________________________________________________\n",
      "block_13_pad (ZeroPadding2D)    (None, 15, 15, 576)  0           block_13_expand_relu[0][0]       \n",
      "__________________________________________________________________________________________________\n",
      "block_13_depthwise (DepthwiseCo (None, 7, 7, 576)    5184        block_13_pad[0][0]               \n",
      "__________________________________________________________________________________________________\n",
      "block_13_depthwise_BN (BatchNor (None, 7, 7, 576)    2304        block_13_depthwise[0][0]         \n",
      "__________________________________________________________________________________________________\n",
      "block_13_depthwise_relu (ReLU)  (None, 7, 7, 576)    0           block_13_depthwise_BN[0][0]      \n",
      "__________________________________________________________________________________________________\n",
      "block_13_project (Conv2D)       (None, 7, 7, 160)    92160       block_13_depthwise_relu[0][0]    \n",
      "__________________________________________________________________________________________________\n",
      "block_13_project_BN (BatchNorma (None, 7, 7, 160)    640         block_13_project[0][0]           \n",
      "__________________________________________________________________________________________________\n",
      "block_14_expand (Conv2D)        (None, 7, 7, 960)    153600      block_13_project_BN[0][0]        \n",
      "__________________________________________________________________________________________________\n",
      "block_14_expand_BN (BatchNormal (None, 7, 7, 960)    3840        block_14_expand[0][0]            \n",
      "__________________________________________________________________________________________________\n",
      "block_14_expand_relu (ReLU)     (None, 7, 7, 960)    0           block_14_expand_BN[0][0]         \n",
      "__________________________________________________________________________________________________\n",
      "block_14_depthwise (DepthwiseCo (None, 7, 7, 960)    8640        block_14_expand_relu[0][0]       \n",
      "__________________________________________________________________________________________________\n",
      "block_14_depthwise_BN (BatchNor (None, 7, 7, 960)    3840        block_14_depthwise[0][0]         \n",
      "__________________________________________________________________________________________________\n",
      "block_14_depthwise_relu (ReLU)  (None, 7, 7, 960)    0           block_14_depthwise_BN[0][0]      \n",
      "__________________________________________________________________________________________________\n",
      "block_14_project (Conv2D)       (None, 7, 7, 160)    153600      block_14_depthwise_relu[0][0]    \n",
      "__________________________________________________________________________________________________\n",
      "block_14_project_BN (BatchNorma (None, 7, 7, 160)    640         block_14_project[0][0]           \n",
      "__________________________________________________________________________________________________\n",
      "block_14_add (Add)              (None, 7, 7, 160)    0           block_13_project_BN[0][0]        \n",
      "                                                                 block_14_project_BN[0][0]        \n",
      "__________________________________________________________________________________________________\n",
      "block_15_expand (Conv2D)        (None, 7, 7, 960)    153600      block_14_add[0][0]               \n",
      "__________________________________________________________________________________________________\n",
      "block_15_expand_BN (BatchNormal (None, 7, 7, 960)    3840        block_15_expand[0][0]            \n",
      "__________________________________________________________________________________________________\n",
      "block_15_expand_relu (ReLU)     (None, 7, 7, 960)    0           block_15_expand_BN[0][0]         \n",
      "__________________________________________________________________________________________________\n",
      "block_15_depthwise (DepthwiseCo (None, 7, 7, 960)    8640        block_15_expand_relu[0][0]       \n",
      "__________________________________________________________________________________________________\n",
      "block_15_depthwise_BN (BatchNor (None, 7, 7, 960)    3840        block_15_depthwise[0][0]         \n",
      "__________________________________________________________________________________________________\n",
      "block_15_depthwise_relu (ReLU)  (None, 7, 7, 960)    0           block_15_depthwise_BN[0][0]      \n",
      "__________________________________________________________________________________________________\n",
      "block_15_project (Conv2D)       (None, 7, 7, 160)    153600      block_15_depthwise_relu[0][0]    \n",
      "__________________________________________________________________________________________________\n",
      "block_15_project_BN (BatchNorma (None, 7, 7, 160)    640         block_15_project[0][0]           \n",
      "__________________________________________________________________________________________________\n",
      "block_15_add (Add)              (None, 7, 7, 160)    0           block_14_add[0][0]               \n",
      "                                                                 block_15_project_BN[0][0]        \n",
      "__________________________________________________________________________________________________\n",
      "block_16_expand (Conv2D)        (None, 7, 7, 960)    153600      block_15_add[0][0]               \n",
      "__________________________________________________________________________________________________\n",
      "block_16_expand_BN (BatchNormal (None, 7, 7, 960)    3840        block_16_expand[0][0]            \n",
      "__________________________________________________________________________________________________\n",
      "block_16_expand_relu (ReLU)     (None, 7, 7, 960)    0           block_16_expand_BN[0][0]         \n",
      "__________________________________________________________________________________________________\n",
      "block_16_depthwise (DepthwiseCo (None, 7, 7, 960)    8640        block_16_expand_relu[0][0]       \n",
      "__________________________________________________________________________________________________\n",
      "block_16_depthwise_BN (BatchNor (None, 7, 7, 960)    3840        block_16_depthwise[0][0]         \n",
      "__________________________________________________________________________________________________\n",
      "block_16_depthwise_relu (ReLU)  (None, 7, 7, 960)    0           block_16_depthwise_BN[0][0]      \n",
      "__________________________________________________________________________________________________\n",
      "block_16_project (Conv2D)       (None, 7, 7, 320)    307200      block_16_depthwise_relu[0][0]    \n",
      "__________________________________________________________________________________________________\n",
      "block_16_project_BN (BatchNorma (None, 7, 7, 320)    1280        block_16_project[0][0]           \n",
      "__________________________________________________________________________________________________\n",
      "Conv_1 (Conv2D)                 (None, 7, 7, 1280)   409600      block_16_project_BN[0][0]        \n",
      "__________________________________________________________________________________________________\n",
      "Conv_1_bn (BatchNormalization)  (None, 7, 7, 1280)   5120        Conv_1[0][0]                     \n",
      "__________________________________________________________________________________________________\n",
      "out_relu (ReLU)                 (None, 7, 7, 1280)   0           Conv_1_bn[0][0]                  \n",
      "__________________________________________________________________________________________________\n",
      "average_pooling2d (AveragePooli (None, 1, 1, 1280)   0           out_relu[0][0]                   \n",
      "__________________________________________________________________________________________________\n",
      "flatten (Flatten)               (None, 1280)         0           average_pooling2d[0][0]          \n",
      "__________________________________________________________________________________________________\n",
      "dense (Dense)                   (None, 128)          163968      flatten[0][0]                    \n",
      "__________________________________________________________________________________________________\n",
      "dropout (Dropout)               (None, 128)          0           dense[0][0]                      \n",
      "__________________________________________________________________________________________________\n",
      "dense_1 (Dense)                 (None, 2)            258         dropout[0][0]                    \n",
      "==================================================================================================\n",
      "Total params: 2,422,210\n",
      "Trainable params: 164,226\n",
      "Non-trainable params: 2,257,984\n",
      "__________________________________________________________________________________________________\n"
     ]
    }
   ],
   "source": [
    "mnmodel = Model(inputs=mobilenet.input, outputs=headModel)\n",
    "# compile our model\n",
    "print(\"[INFO] compiling model...\")\n",
    "opt = Adam(learning_rate=INIT_LR, decay=INIT_LR / EPOCHS)\n",
    "mnmodel.compile(loss=\"binary_crossentropy\", optimizer=opt,metrics=[\"accuracy\"])\n",
    "print(\"Done !!\")\n",
    "mnmodel.summary()"
   ]
  },
  {
   "cell_type": "code",
   "execution_count": 10,
   "id": "2bbde49b",
   "metadata": {},
   "outputs": [],
   "source": [
    "for layer in mobilenet.layers:\n",
    "\tlayer.trainable = False"
   ]
  },
  {
   "cell_type": "code",
   "execution_count": 11,
   "id": "492269e7",
   "metadata": {},
   "outputs": [],
   "source": [
    "from datetime import datetime\n",
    "def timer(start_time= None):\n",
    "    if not start_time:\n",
    "        start_time=datetime.now()\n",
    "        return start_time\n",
    "    elif start_time:\n",
    "        thour,temp_sec=divmod((datetime.now()-start_time).total_seconds(),3600)\n",
    "        tmin,tsec=divmod(temp_sec,60)\n",
    "        print('\\n Time taken: %i hours %i minutes and %s seconds. '% (thour,tmin,round(tsec,2)))\n",
    "earlystop = EarlyStopping(monitor = 'val_loss',\n",
    "                          min_delta = 0,\n",
    "                          patience = 7,\n",
    "                          verbose = 1,\n",
    "                          restore_best_weights = True)\n",
    "\n",
    "# ModelCheckPoint\n",
    "checkPoint = keras.callbacks.ModelCheckpoint(filepath=\"fmd.h5\",\n",
    "                             monitor='val_loss',\n",
    "                             mode='auto',\n",
    "                             save_best_only=True,\n",
    "                             verbose=1)\n",
    "\n",
    "# ReduceLROnPlateau\n",
    "learning_rate_reduction = ReduceLROnPlateau(monitor='val_accuracy', \n",
    "                                            patience=2, \n",
    "                                            verbose=1, \n",
    "                                            factor=0.5, \n",
    "                                            min_lr=0.00001)\n",
    "\n",
    "# TBoard = tf.keras.callbacks.TensorBoard(log_dir='./logs')\n",
    "callbacks = [earlystop , checkPoint, learning_rate_reduction]"
   ]
  },
  {
   "cell_type": "code",
   "execution_count": 18,
   "id": "f16c7c5a",
   "metadata": {},
   "outputs": [
    {
     "name": "stdout",
     "output_type": "stream",
     "text": [
      "Epoch 1/20\n",
      "18/18 [==============================] - 88s 5s/step - loss: 0.0090 - accuracy: 0.9982 - val_loss: 0.2351 - val_accuracy: 0.9379\n",
      "\n",
      "Epoch 00001: val_loss improved from 0.24301 to 0.23505, saving model to fmd.h5\n"
     ]
    },
    {
     "name": "stderr",
     "output_type": "stream",
     "text": [
      "C:\\Users\\srich\\AppData\\Local\\Programs\\Python\\Python39\\lib\\site-packages\\tensorflow\\python\\keras\\utils\\generic_utils.py:494: CustomMaskWarning: Custom mask layers require a config and must override get_config. When loading, the custom mask layer must be passed to the custom_objects argument.\n",
      "  warnings.warn('Custom mask layers require a config and must override '\n"
     ]
    },
    {
     "name": "stdout",
     "output_type": "stream",
     "text": [
      "Epoch 2/20\n",
      "18/18 [==============================] - 78s 4s/step - loss: 0.0072 - accuracy: 1.0000 - val_loss: 0.2227 - val_accuracy: 0.9379\n",
      "\n",
      "Epoch 00002: val_loss improved from 0.23505 to 0.22274, saving model to fmd.h5\n",
      "Epoch 3/20\n",
      "18/18 [==============================] - 92s 5s/step - loss: 0.0071 - accuracy: 1.0000 - val_loss: 0.2103 - val_accuracy: 0.9379\n",
      "\n",
      "Epoch 00003: val_loss improved from 0.22274 to 0.21033, saving model to fmd.h5\n",
      "\n",
      "Epoch 00003: ReduceLROnPlateau reducing learning rate to 1e-05.\n",
      "Epoch 4/20\n",
      "18/18 [==============================] - 95s 5s/step - loss: 0.0055 - accuracy: 1.0000 - val_loss: 0.1977 - val_accuracy: 0.9379\n",
      "\n",
      "Epoch 00004: val_loss improved from 0.21033 to 0.19771, saving model to fmd.h5\n",
      "Epoch 5/20\n",
      "18/18 [==============================] - 83s 5s/step - loss: 0.0054 - accuracy: 1.0000 - val_loss: 0.1862 - val_accuracy: 0.9510\n",
      "\n",
      "Epoch 00005: val_loss improved from 0.19771 to 0.18620, saving model to fmd.h5\n",
      "Epoch 6/20\n",
      "18/18 [==============================] - 81s 4s/step - loss: 0.0073 - accuracy: 1.0000 - val_loss: 0.1767 - val_accuracy: 0.9542\n",
      "\n",
      "Epoch 00006: val_loss improved from 0.18620 to 0.17673, saving model to fmd.h5\n",
      "Epoch 7/20\n",
      "18/18 [==============================] - 83s 5s/step - loss: 0.0083 - accuracy: 0.9982 - val_loss: 0.1732 - val_accuracy: 0.9575\n",
      "\n",
      "Epoch 00007: val_loss improved from 0.17673 to 0.17323, saving model to fmd.h5\n",
      "Epoch 8/20\n",
      "18/18 [==============================] - 83s 5s/step - loss: 0.0036 - accuracy: 1.0000 - val_loss: 0.1659 - val_accuracy: 0.9608\n",
      "\n",
      "Epoch 00008: val_loss improved from 0.17323 to 0.16590, saving model to fmd.h5\n",
      "Epoch 9/20\n",
      "18/18 [==============================] - 81s 5s/step - loss: 0.0068 - accuracy: 0.9982 - val_loss: 0.1547 - val_accuracy: 0.9608\n",
      "\n",
      "Epoch 00009: val_loss improved from 0.16590 to 0.15466, saving model to fmd.h5\n",
      "Epoch 10/20\n",
      "18/18 [==============================] - 85s 5s/step - loss: 0.0050 - accuracy: 1.0000 - val_loss: 0.1452 - val_accuracy: 0.9641\n",
      "\n",
      "Epoch 00010: val_loss improved from 0.15466 to 0.14518, saving model to fmd.h5\n",
      "Epoch 11/20\n",
      "18/18 [==============================] - 83s 5s/step - loss: 0.0059 - accuracy: 1.0000 - val_loss: 0.1422 - val_accuracy: 0.9641\n",
      "\n",
      "Epoch 00011: val_loss improved from 0.14518 to 0.14220, saving model to fmd.h5\n",
      "Epoch 12/20\n",
      "18/18 [==============================] - 82s 5s/step - loss: 0.0066 - accuracy: 0.9982 - val_loss: 0.1346 - val_accuracy: 0.9641\n",
      "\n",
      "Epoch 00012: val_loss improved from 0.14220 to 0.13461, saving model to fmd.h5\n",
      "Epoch 13/20\n",
      "18/18 [==============================] - 82s 5s/step - loss: 0.0148 - accuracy: 0.9965 - val_loss: 0.1281 - val_accuracy: 0.9706\n",
      "\n",
      "Epoch 00013: val_loss improved from 0.13461 to 0.12813, saving model to fmd.h5\n",
      "Epoch 14/20\n",
      "18/18 [==============================] - 84s 5s/step - loss: 0.0057 - accuracy: 1.0000 - val_loss: 0.1183 - val_accuracy: 0.9739\n",
      "\n",
      "Epoch 00014: val_loss improved from 0.12813 to 0.11835, saving model to fmd.h5\n",
      "Epoch 15/20\n",
      "18/18 [==============================] - 82s 5s/step - loss: 0.0036 - accuracy: 1.0000 - val_loss: 0.1121 - val_accuracy: 0.9739\n",
      "\n",
      "Epoch 00015: val_loss improved from 0.11835 to 0.11212, saving model to fmd.h5\n",
      "Epoch 16/20\n",
      "18/18 [==============================] - 82s 5s/step - loss: 0.0030 - accuracy: 1.0000 - val_loss: 0.1083 - val_accuracy: 0.9739\n",
      "\n",
      "Epoch 00016: val_loss improved from 0.11212 to 0.10831, saving model to fmd.h5\n",
      "Epoch 17/20\n",
      "18/18 [==============================] - 85s 5s/step - loss: 0.0104 - accuracy: 0.9965 - val_loss: 0.1029 - val_accuracy: 0.9739\n",
      "\n",
      "Epoch 00017: val_loss improved from 0.10831 to 0.10293, saving model to fmd.h5\n",
      "Epoch 18/20\n",
      "18/18 [==============================] - 83s 5s/step - loss: 0.0058 - accuracy: 0.9982 - val_loss: 0.0954 - val_accuracy: 0.9739\n",
      "\n",
      "Epoch 00018: val_loss improved from 0.10293 to 0.09543, saving model to fmd.h5\n",
      "Epoch 19/20\n",
      "18/18 [==============================] - 82s 5s/step - loss: 0.0157 - accuracy: 0.9947 - val_loss: 0.1000 - val_accuracy: 0.9739\n",
      "\n",
      "Epoch 00019: val_loss did not improve from 0.09543\n",
      "Epoch 20/20\n",
      "18/18 [==============================] - 83s 5s/step - loss: 0.0051 - accuracy: 1.0000 - val_loss: 0.1015 - val_accuracy: 0.9739\n",
      "\n",
      "Epoch 00020: val_loss did not improve from 0.09543\n",
      "\n",
      " Time taken: 0 hours 28 minutes and 9.62 seconds. \n"
     ]
    }
   ],
   "source": [
    "start_time=timer(None)\n",
    "classifier = mnmodel.fit(\n",
    "    train_datagen.flow(train_data, train_labels, batch_size=BS), \n",
    "    epochs=EPOCHS,\n",
    "    validation_data=(test_data,test_labels),\n",
    "    validation_steps=len(test_data)//BS,\n",
    "    steps_per_epoch=len(train_data)//BS,\n",
    "    callbacks=callbacks\n",
    ")\n",
    "timer(start_time)\n"
   ]
  },
  {
   "cell_type": "code",
   "execution_count": 37,
   "id": "1f1af894",
   "metadata": {},
   "outputs": [
    {
     "data": {
      "image/png": "[encoded data removed]",
      "text/plain": [
       "<Figure size 432x288 with 1 Axes>"
      ]
     },
     "metadata": {},
     "output_type": "display_data"
    }
   ],
   "source": [
    "# plot the training loss and accuracy\n",
    "plt.style.use(\"ggplot\")\n",
    "N = 20 # epochs number\n",
    "plt.figure()\n",
    "plt.plot( classifier.history[\"loss\"], label=\"train_loss\")\n",
    "plt.plot( classifier.history[\"val_loss\"], label=\"val_loss\")\n",
    "plt.plot( classifier.history[\"accuracy\"], label=\"train_acc\")\n",
    "plt.plot( classifier.history[\"val_accuracy\"], label=\"val_acc\")\n",
    "plt.title(\"Training Loss and Accuracy\")\n",
    "plt.xlabel(\"Epoch #\")\n",
    "plt.ylabel(\"Loss/Accuracy\")\n",
    "plt.legend(loc=\"center right\")\n",
    "plt.savefig(\"CNN_Model\")"
   ]
  },
  {
   "cell_type": "code",
   "execution_count": 39,
   "id": "8e353fc5",
   "metadata": {},
   "outputs": [
    {
     "name": "stdout",
     "output_type": "stream",
     "text": [
      "[INFO] evaluating network...\n",
      "10/10 [==============================] - 7s 737ms/step - loss: 0.1015 - accuracy: 0.9739\n",
      "Accuracy is :  0.9738562107086182\n",
      "Loss is :  0.10149619728326797\n"
     ]
    }
   ],
   "source": [
    "print(\"[INFO] evaluating network...\")\n",
    "predIdxs = mnmodel.predict(test_data, batch_size=BS)\n",
    "\n",
    "predIdxs = np.argmax(predIdxs, axis=1)\n",
    "val_loss,val_acc = mnmodel.evaluate(test_data,test_labels)\n",
    "\n",
    "print(\"Accuracy is : \",val_acc)\n",
    "\n",
    "print(\"Loss is : \",val_loss)\n"
   ]
  },
  {
   "cell_type": "code",
   "execution_count": 33,
   "id": "e2f86632",
   "metadata": {},
   "outputs": [
    {
     "name": "stdout",
     "output_type": "stream",
     "text": [
      "              precision    recall  f1-score   support\n",
      "\n",
      "           0       1.00      0.95      0.97       153\n",
      "           1       0.95      1.00      0.97       153\n",
      "\n",
      "    accuracy                           0.97       306\n",
      "   macro avg       0.98      0.97      0.97       306\n",
      "weighted avg       0.98      0.97      0.97       306\n",
      "\n"
     ]
    }
   ],
   "source": [
    "print(classification_report(test_labels.argmax(axis=1), predIdxs))"
   ]
  },
  {
   "cell_type": "code",
   "execution_count": 44,
   "id": "780e3228",
   "metadata": {},
   "outputs": [
    {
     "name": "stdout",
     "output_type": "stream",
     "text": [
      "Confusion Matrix\n"
     ]
    },
    {
     "data": {
      "image/png": "[encoded data removed]",
      "text/plain": [
       "<Figure size 432x288 with 2 Axes>"
      ]
     },
     "metadata": {},
     "output_type": "display_data"
    }
   ],
   "source": [
    "from sklearn.metrics import  confusion_matrix,ConfusionMatrixDisplay\n",
    "print('Confusion Matrix')\n",
    "cm = confusion_matrix(test_labels.argmax(axis=1),predIdxs)\n",
    "disp = ConfusionMatrixDisplay(confusion_matrix=cm, display_labels=['Non Mask','Mask'])\n",
    "disp.plot(cmap=plt.cm.Blues)\n",
    "plt.show()"
   ]
  },
  {
   "cell_type": "markdown",
   "id": "af86b843",
   "metadata": {},
   "source": [
    "### We trained 2 models Sequential and mobilenetV2\n",
    "\n",
    "Mobilenetv2 achieved the highest accuracy (97%)"
   ]
  },
  {
   "cell_type": "code",
   "execution_count": 50,
   "id": "584f5354",
   "metadata": {},
   "outputs": [
    {
     "data": {
      "image/png": "[encoded data removed]",
      "text/plain": [
       "<Figure size 360x288 with 1 Axes>"
      ]
     },
     "metadata": {},
     "output_type": "display_data"
    }
   ],
   "source": [
    "import numpy as np\n",
    "import matplotlib.pyplot as plt\n",
    " \n",
    "  \n",
    "# creating the dataset\n",
    "data = {'Sequential CNN':87, 'MobileNetV2':97}\n",
    "models = list(data.keys())\n",
    "values = list(data.values())\n",
    "  \n",
    "fig = plt.figure(figsize = (5, 4))\n",
    " \n",
    "# creating the bar plot\n",
    "plt.bar(models, values, color ='blue',\n",
    "        width = 0.2)\n",
    " \n",
    "plt.xlabel(\"Models\")\n",
    "plt.ylabel(\"Percentage of accuracy\")\n",
    "plt.title(\"Comparision between Sequential and MobileNetv2\")\n",
    "plt.show()"
   ]
  }
 ],
 "metadata": {
  "kernelspec": {
   "display_name": "Python 3 (ipykernel)",
   "language": "python",
   "name": "python3"
  },
  "language_info": {
   "codemirror_mode": {
    "name": "ipython",
    "version": 3
   },
   "file_extension": ".py",
   "mimetype": "text/x-python",
   "name": "python",
   "nbconvert_exporter": "python",
   "pygments_lexer": "ipython3",
   "version": "3.9.7"
  },
  "vscode": {
   "interpreter": {
    "hash": "10166493f84ec5a78c0d7b9d3df11f639bd1362675635e50599619d079b5ee4d"
   }
  }
 },
 "nbformat": 4,
 "nbformat_minor": 5
}
